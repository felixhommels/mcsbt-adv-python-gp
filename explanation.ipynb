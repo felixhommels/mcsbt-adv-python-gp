{
 "cells": [
  {
   "cell_type": "markdown",
   "metadata": {},
   "source": [
    "# Group 1 Advanced Python Group Project Explanation Notebook\n",
    "This document explains step by step the actions taken in order to develop the first part of the Group Project: Flask. The overall structure of the notebook is a little explanation along with the code"
   ]
  },
  {
   "cell_type": "markdown",
   "metadata": {},
   "source": [
    "### Developing the Machine Learning Model"
   ]
  },
  {
   "cell_type": "markdown",
   "metadata": {},
   "source": [
    "After having found the dataset, the first step was to import all the libraries used for the model. "
   ]
  },
  {
   "cell_type": "code",
   "execution_count": 1,
   "metadata": {},
   "outputs": [],
   "source": [
    "#From model.py\n",
    "import os\n",
    "import pickle\n",
    "\n",
    "import pandas as pd\n",
    "import numpy as np\n",
    "from sklearn.model_selection import train_test_split\n",
    "from sklearn.linear_model import LinearRegression\n",
    "from sklearn.metrics import mean_squared_error, r2_score"
   ]
  },
  {
   "cell_type": "markdown",
   "metadata": {},
   "source": [
    " - After that since we are trying to make a machine learning model, we first had to load the data and drop colums, which dont add value to the model - in this case the Order_ID. \n",
    "- In order to make sure that we dont train on empty data, we also dropped all empty datapoints.\n",
    "- Since the dataset is working with categorical data and the aim was to use a linear regression, we used one-hot encoding or \"dummies\" to transform the data such that the Linear Regression would work with the dataset\n",
    "- Next we split the data into X and Y \n",
    "- Lastly we used scikitlearn to split the data into training and testing data \n",
    "\n"
   ]
  },
  {
   "cell_type": "code",
   "execution_count": 2,
   "metadata": {},
   "outputs": [],
   "source": [
    "#From model.py\n",
    "\n",
    "data = pd.read_csv(\"data/Food_Delivery_times.csv\")\n",
    "\n",
    "data.drop(columns=[\"Order_ID\"], inplace=True)\n",
    "data.dropna(inplace=True)\n",
    "\n",
    "#We have some categorical variables - for linear regression we need to convert them to numerical variables\n",
    "data = pd.get_dummies(data)\n",
    "\n",
    "X = data.drop(columns=[\"Delivery_Time_min\"])\n",
    "Y = data[\"Delivery_Time_min\"]\n",
    "\n",
    "X_train, X_test, Y_train, Y_test = train_test_split(X, Y, test_size=0.20, random_state=42)"
   ]
  },
  {
   "cell_type": "markdown",
   "metadata": {},
   "source": [
    "- Next we created a Linear Regression and fit the model to our X and Y training data respectively\n",
    "- In order to see what happened \"under the hood\", we examined the coefficients of each variable to better understand which variables were key for the prediction\n",
    "- We printed the feature name and coefficient respectively"
   ]
  },
  {
   "cell_type": "code",
   "execution_count": null,
   "metadata": {},
   "outputs": [],
   "source": [
    "#From model.py\n",
    "\n",
    "model = LinearRegression()\n",
    "\n",
    "model.fit(X_train, Y_train)\n",
    "\n",
    "#During development wanted to see the coefficients of the different features\n",
    "coefficients = model.coef_\n",
    "feature_names = X.columns\n",
    "\n",
    "for feature, coef in zip(feature_names, coefficients):\n",
    "    print(f\"{feature}: {coef}\")"
   ]
  },
  {
   "cell_type": "markdown",
   "metadata": {},
   "source": [
    "- Next we made the model predict Y based on our X testdata\n",
    "- We then measured the performance using mean squred error and R^2\n",
    "- During development, the R^2 of the model was approx. 0.83 which is an acceptable score\n",
    "- Lastly we saved the model into a pickle file which we could use in our Flask backend"
   ]
  },
  {
   "cell_type": "code",
   "execution_count": null,
   "metadata": {},
   "outputs": [],
   "source": [
    "#Predicting the test set results\n",
    "Y_pred = model.predict(X_test)\n",
    "\n",
    "mse = mean_squared_error(Y_test, Y_pred)\n",
    "r2 = r2_score(Y_test, Y_pred)\n",
    "\n",
    "print(f\"Mean Squared Error: {mse}\")\n",
    "print(f\"R2 Score: {r2}\") #During testing was approx .83 which is acceptable\n",
    "\n",
    "#Saving the model to pickle file\n",
    "pickle.dump(model, open(\"food_delivery_model.pkl\", \"wb\"))"
   ]
  },
  {
   "cell_type": "markdown",
   "metadata": {},
   "source": [
    "### Developing the Backend Routes & Templates for the Home Route and Predict Route"
   ]
  },
  {
   "cell_type": "markdown",
   "metadata": {},
   "source": [
    "First we needed to import all of the necessary libraries for a functioning backend"
   ]
  }
 ],
 "metadata": {
  "kernelspec": {
   "display_name": "Python 3",
   "language": "python",
   "name": "python3"
  },
  "language_info": {
   "codemirror_mode": {
    "name": "ipython",
    "version": 3
   },
   "file_extension": ".py",
   "mimetype": "text/x-python",
   "name": "python",
   "nbconvert_exporter": "python",
   "pygments_lexer": "ipython3",
   "version": "3.12.4"
  }
 },
 "nbformat": 4,
 "nbformat_minor": 2
}
